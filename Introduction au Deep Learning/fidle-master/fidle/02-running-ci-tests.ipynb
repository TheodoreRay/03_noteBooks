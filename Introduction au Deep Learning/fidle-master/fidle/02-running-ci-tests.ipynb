{
 "cells": [
  {
   "cell_type": "markdown",
   "metadata": {},
   "source": [
    "<img width=\"800px\" src=\"../fidle/img/00-Fidle-header-01.svg\"></img>\n",
    "\n",
    "\n",
    "# Gestion des tests d'intégration continue\n",
    "\n",
    "**La liste des notebooks a éxécuter** et de leurs paramètres (override) est définie dans un **profile**.\\\n",
    "Un **rapport d'éxécution** est généré durant l'éxécution des tests.\n",
    "\n",
    "## Step 1 - Init"
   ]
  },
  {
   "cell_type": "code",
   "execution_count": null,
   "metadata": {},
   "outputs": [],
   "source": [
    "import cookci\n",
    "import os\n",
    "import pwk\n",
    "datasets_dir = pwk.init('RUNCI')"
   ]
  },
  {
   "cell_type": "markdown",
   "metadata": {},
   "source": [
    "## Step 2 - Profile and parameters\n",
    "`profile_name`: ci profile name - see en ./ci  \n",
    "`reset`: reset or not the catalog of results  \n",
    "`filters`: regex to define witch notebook will be run, examples :  \n",
    "- `.*`\n",
    "- `Nb_GTSRB.*|Nb_AE.*`\n",
    "- `Nb_VAE3`"
   ]
  },
  {
   "cell_type": "code",
   "execution_count": null,
   "metadata": {},
   "outputs": [],
   "source": [
    "profile_name = './ci/small_cpu.yml'\n",
    "reset        = True\n",
    "filter       = '.*'\n",
    "\n",
    "pwk.override('profile_name', 'reset', 'filter')"
   ]
  },
  {
   "cell_type": "markdown",
   "metadata": {},
   "source": [
    "## Step 3 - Run it"
   ]
  },
  {
   "cell_type": "code",
   "execution_count": null,
   "metadata": {},
   "outputs": [],
   "source": [
    "cookci.run_profile(profile_name, reset, filter)\n",
    "cookci.build_ci_report(profile_name)"
   ]
  },
  {
   "cell_type": "code",
   "execution_count": null,
   "metadata": {},
   "outputs": [],
   "source": [
    "%%bash\n",
    "# tree ./run/ci\n",
    "# find .. -name \"*==ci==.*\" -ls | sort -k11\n",
    "# rm $(find .. -name \"*==ci==.ipynb\")\n",
    "# rm $(find .. -name \"*==ci==.html\")"
   ]
  },
  {
   "cell_type": "markdown",
   "metadata": {},
   "source": [
    "---\n",
    "<img width=\"80px\" src=\"../fidle/img/00-Fidle-logo-01.svg\"></img>"
   ]
  }
 ],
 "metadata": {
  "interpreter": {
   "hash": "7822d55dc7294a4f6f06b86d8ad2ca65bd6e1ee5d72628c47c30a06bbf89aef6"
  },
  "kernelspec": {
   "display_name": "Python 3.9.7 64-bit ('fidle': conda)",
   "name": "python3"
  },
  "language_info": {
   "codemirror_mode": {
    "name": "ipython",
    "version": 3
   },
   "file_extension": ".py",
   "mimetype": "text/x-python",
   "name": "python",
   "nbconvert_exporter": "python",
   "pygments_lexer": "ipython3",
   "version": "3.9.7"
  }
 },
 "nbformat": 4,
 "nbformat_minor": 4
}
