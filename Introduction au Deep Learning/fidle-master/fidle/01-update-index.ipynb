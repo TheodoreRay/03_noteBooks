{
 "cells": [
  {
   "cell_type": "markdown",
   "metadata": {},
   "source": [
    "<img width=\"800px\" src=\"../fidle/img/00-Fidle-header-01.svg\"></img>\n",
    "\n",
    "\n",
    "## Mise a jour du catalog des notebooks et des READMEs\n",
    " - Génération du **catalog des notebooks** : [./logs/catalog.json](./logs/catalog.json)  \n",
    "   Ce fichier comporte une liste détaillée de tous les notebooks et scripts.\n",
    "   \n",
    "   \n",
    " - Génération automatique de la table des matières et mise à jour des **README**\n",
    "     - [README.md](../README.md)\n",
    "     - [README.ipynb](../README.ipynb)\n",
    "\n"
   ]
  },
  {
   "cell_type": "markdown",
   "metadata": {},
   "source": [
    "## Step 1 - Load modules and init"
   ]
  },
  {
   "cell_type": "code",
   "execution_count": null,
   "metadata": {},
   "outputs": [],
   "source": [
    "import nbformat\n",
    "from nbconvert.preprocessors import ExecutePreprocessor\n",
    "from IPython.display import display,Markdown\n",
    "import sys\n",
    "import datetime\n",
    "\n",
    "sys.path.append('..')\n",
    "import fidle.config as config\n",
    "import fidle.cookindex as cookindex\n"
   ]
  },
  {
   "cell_type": "markdown",
   "metadata": {},
   "source": [
    "## Step 2 - List of folders containing notebooks to be indexed :\n",
    "Order wil be index order"
   ]
  },
  {
   "cell_type": "code",
   "execution_count": null,
   "metadata": {},
   "outputs": [],
   "source": [
    "directories_to_index = {'LinearReg':'Linear and logistic regression', \n",
    "                        'IRIS':'Perceptron Model 1957', \n",
    "                        'BHPD':'Basic regression using DNN',\n",
    "                        'MNIST':'Basic classification using a DNN',\n",
    "                        'GTSRB':'Images classification with Convolutional Neural Networks (CNN)',\n",
    "                        'IMDB':'Sentiment analysis with word embedding',\n",
    "                        'SYNOP':'Time series with Recurrent Neural Network (RNN)',\n",
    "                        'AE':'Unsupervised learning with an autoencoder neural network (AE)',\n",
    "                        'VAE':'Generative network with Variational Autoencoder (VAE)',\n",
    "                        'DCGAN':'Generative Adversarial Networks (GANs)',\n",
    "                        'Misc':'Miscellaneous'\n",
    "                        }"
   ]
  },
  {
   "cell_type": "markdown",
   "metadata": {},
   "source": [
    "## Step 3 - Catalog of notebooks\n",
    "### 3.1 - Build catalog"
   ]
  },
  {
   "cell_type": "code",
   "execution_count": null,
   "metadata": {},
   "outputs": [],
   "source": [
    "cookindex.build_catalog(directories_to_index)\n",
    "cookindex.build_default_profile()"
   ]
  },
  {
   "cell_type": "markdown",
   "metadata": {},
   "source": [
    "### 3.3 Buil index"
   ]
  },
  {
   "cell_type": "code",
   "execution_count": null,
   "metadata": {},
   "outputs": [],
   "source": [
    "catalog = cookindex. read_catalog()\n",
    "styles = open('css/readme.css', \"r\").read()\n",
    "\n",
    "lines_md=[]\n",
    "lines_html=[styles]\n",
    "\n",
    "for directory,title in directories_to_index.items():\n",
    "    \n",
    "    lines_md.append(f'\\n### {title}')\n",
    "    lines_html.append( f'<div class=\"fid_section\">{title}</div>')\n",
    "    \n",
    "    entries = { k:v for k,v in catalog.items() if v['dirname']==directory }\n",
    "\n",
    "    for id, about in entries.items():\n",
    "        id          = about['id']\n",
    "        dirname     = about['dirname']\n",
    "        basename    = about['basename']\n",
    "        title       = about['title']\n",
    "        description = about['description']\n",
    "\n",
    "        link=f'{dirname}/{basename}'.replace(' ','%20')\n",
    "        md   = f'- **[{id}]({link})** - [{title}]({link})  \\n'\n",
    "        md  += f'{description}'\n",
    "        html = f\"\"\"<div class=\"fid_line\">\n",
    "                       <span class=\"fid_id\">\n",
    "                           <a href=\"{link}\">{id}</a>\n",
    "                       </span> <a href=\"{link}\">{title}</a><br>\n",
    "                       <span class=\"fid_desc\">{description}</span>\n",
    "                  </div>\n",
    "                \"\"\"\n",
    "        lines_md.append(md)\n",
    "        lines_html.append(html)\n",
    "\n",
    "index_md   = '\\n'.join(lines_md)\n",
    "index_html = '\\n'.join(lines_html)\n",
    "\n",
    "display(Markdown('**Index is :**'))\n",
    "\n",
    "display(Markdown(index_md))\n",
    "# display(HTML(index_html))\n"
   ]
  },
  {
   "cell_type": "markdown",
   "metadata": {},
   "source": [
    "## Step 4 - Update README.md"
   ]
  },
  {
   "cell_type": "code",
   "execution_count": null,
   "metadata": {},
   "outputs": [],
   "source": [
    "# ---- Load README.md\n",
    "#\n",
    "with open('../README.md','r') as fp:\n",
    "    readme=fp.read()\n",
    "    \n",
    "# ---- Update index, version\n",
    "#\n",
    "readme = cookindex.tag('INDEX',   index_md,                readme)\n",
    "readme = cookindex.tag('VERSION', f'**{config.VERSION}**', readme)\n",
    "\n",
    "# ---- Save it\n",
    "#\n",
    "with open('../README.md','wt') as fp:\n",
    "    fp.write(readme)\n",
    "\n",
    "print('README.md is updated.')"
   ]
  },
  {
   "cell_type": "markdown",
   "metadata": {},
   "source": [
    "## Step 5 - README.ipynb\n",
    "Just execute README.ipynb"
   ]
  },
  {
   "cell_type": "raw",
   "metadata": {},
   "source": [
    "# ---- Load notebook\n",
    "#\n",
    "notebook = nbformat.read('../README.ipynb', nbformat.NO_CONVERT)\n",
    "\n",
    "# new_cell = nbformat.v4.new_markdown_cell(source=readme)\n",
    "# notebook.cells.append(new_cell)\n",
    "\n",
    "# ---- Execute it\n",
    "#\n",
    "ep = ExecutePreprocessor(timeout=600, kernel_name=\"python3\")\n",
    "ep.preprocess(notebook,  {'metadata': {'path': '..'}})\n",
    "\n",
    "# ---- Save it\n",
    "with open('../READMEv2.ipynb', mode=\"w\", encoding='utf-8') as fp:\n",
    "    nbformat.write(notebook)"
   ]
  },
  {
   "cell_type": "markdown",
   "metadata": {},
   "source": [
    "## Step 6 - More fun : Create and execute it :-)"
   ]
  },
  {
   "cell_type": "markdown",
   "metadata": {},
   "source": [
    "Plus rigolo, on va fabriquer le README.ipynb et l'executer :-)"
   ]
  },
  {
   "cell_type": "code",
   "execution_count": null,
   "metadata": {},
   "outputs": [],
   "source": [
    "# ---- Create Notebook from scratch\n",
    "#\n",
    "notebook = nbformat.v4.new_notebook()\n",
    "\n",
    "# ---- Add a code cell\n",
    "#\n",
    "code = \"from IPython.display import display,Markdown\\n\"\n",
    "code+= \"display(Markdown(open('README.md', 'r').read()))\\n\"\n",
    "code+= \"#\\n\"\n",
    "code+= \"# This README is visible under Jupiter LAb ! :-)\"\n",
    "\n",
    "new_cell = nbformat.v4.new_code_cell(source=code)\n",
    "new_cell['metadata']= { \"jupyter\": { \"source_hidden\": True} }\n",
    "notebook.cells.append(new_cell)\n",
    "\n",
    "# --- Pour éviter une modification lors de l'ouverture du notebook\n",
    "#     pas génante, mais nécessite de resauvegarder le document à la fermeture...\n",
    "notebook['metadata'][\"kernelspec\"] = {\"display_name\": \"Python 3\", \"language\": \"python\", \"name\": \"python3\" }\n",
    "\n",
    "# ---- Run it\n",
    "#\n",
    "ep = ExecutePreprocessor(timeout=600, kernel_name=\"python3\")\n",
    "ep.preprocess(notebook,  {'metadata': {'path': '..'}})\n",
    "\n",
    "# ---- Save it\n",
    "#\n",
    "with open('../README.ipynb', mode=\"w\", encoding='utf-8') as fp:\n",
    "    nbformat.write(notebook, fp)\n",
    "print('README.ipynb built and saved')"
   ]
  },
  {
   "cell_type": "code",
   "execution_count": null,
   "metadata": {},
   "outputs": [],
   "source": [
    "now = datetime.datetime.now()\n",
    "print('Completed on : ', now.strftime(\"%A %d %B %Y, %H:%M:%S\"))"
   ]
  },
  {
   "cell_type": "markdown",
   "metadata": {},
   "source": [
    "---\n",
    "<img width=\"80px\" src=\"../fidle/img/00-Fidle-logo-01.svg\"></img>"
   ]
  }
 ],
 "metadata": {
  "interpreter": {
   "hash": "7822d55dc7294a4f6f06b86d8ad2ca65bd6e1ee5d72628c47c30a06bbf89aef6"
  },
  "kernelspec": {
   "display_name": "Python 3.9.7 64-bit ('fidle': conda)",
   "name": "python3"
  },
  "language_info": {
   "codemirror_mode": {
    "name": "ipython",
    "version": 3
   },
   "file_extension": ".py",
   "mimetype": "text/x-python",
   "name": "python",
   "nbconvert_exporter": "python",
   "pygments_lexer": "ipython3",
   "version": "3.9.7"
  }
 },
 "nbformat": 4,
 "nbformat_minor": 4
}
