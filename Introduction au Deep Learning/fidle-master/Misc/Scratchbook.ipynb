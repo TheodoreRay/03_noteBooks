{
 "cells": [
  {
   "cell_type": "markdown",
   "id": "alpha-bahrain",
   "metadata": {},
   "source": [
    "<img width=\"800px\" src=\"../fidle/img/00-Fidle-header-01.svg\"></img>\n",
    "\n",
    "# <!-- TITLE --> [SCRATCH1] - Scratchbook\n",
    "<!-- DESC --> A scratchbook for small examples\n",
    "<!-- AUTHOR : Jean-Luc Parouty (CNRS/SIMaP) -->\n",
    "\n",
    "## Objectives :\n",
    " - Take a quick look at thousands of little things\n",
    "\n",
    "## Inside this scratchbook :\n",
    "\n",
    "[1 - LSTM Keras layer](#1---LSTM-Keras-layer)\n"
   ]
  },
  {
   "cell_type": "markdown",
   "id": "accessory-church",
   "metadata": {},
   "source": [
    "# One init to rule them all"
   ]
  },
  {
   "cell_type": "code",
   "execution_count": null,
   "id": "floppy-organic",
   "metadata": {},
   "outputs": [],
   "source": [
    "import tensorflow as tf\n",
    "from tensorflow import keras\n",
    "from tensorflow.keras.callbacks import TensorBoard\n",
    "from tensorflow.keras.preprocessing.sequence import TimeseriesGenerator\n",
    "\n",
    "import numpy as np\n",
    "import math, random"
   ]
  },
  {
   "cell_type": "markdown",
   "id": "danish-rebound",
   "metadata": {},
   "source": [
    "## 1 - LSTM Keras layer"
   ]
  },
  {
   "cell_type": "code",
   "execution_count": null,
   "id": "opposite-plasma",
   "metadata": {},
   "outputs": [],
   "source": [
    "inputs  = tf.random.normal([32, 20, 8])\n",
    "\n",
    "lstm    = tf.keras.layers.LSTM(16)\n",
    "output  = lstm(inputs)\n",
    "\n",
    "print('Inputs shape is : ', inputs.shape)\n",
    "print('Output shape is : ', output.shape)"
   ]
  },
  {
   "cell_type": "code",
   "execution_count": null,
   "id": "forbidden-murray",
   "metadata": {},
   "outputs": [],
   "source": [
    "lstm = tf.keras.layers.LSTM(20, return_sequences=True, return_state=True)\n",
    "\n",
    "output, memory_state, carry_state = lstm(inputs)\n",
    "\n",
    "print('Output shape : ', output.shape)\n",
    "print('Memory state : ', memory_state.shape)\n",
    "print('Carry  state : ', carry_state.shape)\n"
   ]
  },
  {
   "cell_type": "code",
   "execution_count": null,
   "id": "verified-fruit",
   "metadata": {},
   "outputs": [],
   "source": [
    "# --- See the last vector of the output\n",
    "output[-1,-1]"
   ]
  },
  {
   "cell_type": "code",
   "execution_count": null,
   "id": "homeless-library",
   "metadata": {},
   "outputs": [],
   "source": [
    "# ---- Memory state is the last output\n",
    "memory_state[-1]"
   ]
  },
  {
   "cell_type": "code",
   "execution_count": null,
   "id": "preliminary-psychiatry",
   "metadata": {},
   "outputs": [],
   "source": [
    "carry_state[-1]"
   ]
  },
  {
   "cell_type": "code",
   "execution_count": null,
   "id": "heard-processing",
   "metadata": {},
   "outputs": [],
   "source": []
  }
 ],
 "metadata": {
  "kernelspec": {
   "display_name": "Python 3",
   "language": "python",
   "name": "python3"
  },
  "language_info": {
   "codemirror_mode": {
    "name": "ipython",
    "version": 3
   },
   "file_extension": ".py",
   "mimetype": "text/x-python",
   "name": "python",
   "nbconvert_exporter": "python",
   "pygments_lexer": "ipython3",
   "version": "3.8.5"
  }
 },
 "nbformat": 4,
 "nbformat_minor": 5
}
