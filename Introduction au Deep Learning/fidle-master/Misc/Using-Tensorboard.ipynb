{
 "cells": [
  {
   "cell_type": "markdown",
   "metadata": {},
   "source": [
    "<img width=\"800px\" src=\"../fidle/img/00-Fidle-header-01.svg\"></img>\n",
    "\n",
    "# <!-- TITLE --> [TSB1] - Tensorboard with/from Jupyter \n",
    "<!-- DESC --> 4 ways to use Tensorboard from the Jupyter environment\n",
    "<!-- AUTHOR : Jean-Luc Parouty (CNRS/SIMaP) -->\n",
    "\n",
    "## Objectives :\n",
    "  - Using [**Tensorboard**](https://www.tensorflow.org/tensorboard/get_started)\n",
    "\n",
    "## What we're going to do :\n",
    " - Using Tensorboard"
   ]
  },
  {
   "cell_type": "markdown",
   "metadata": {},
   "source": [
    "## Option 1  - From Jupyter (***)\n",
    "\n",
    "It's the easiest and the best way \\!  \n",
    "Launch Tensorboard directly from Jupiter.  \n",
    "Works very fine on Jean-Zay (at IDRIS) :-)\n",
    "\n"
   ]
  },
  {
   "cell_type": "markdown",
   "metadata": {},
   "source": [
    "## Option 2 - Tensorboard as a magic command (**)\n",
    "Tensorboard can be run from Jupiter with a magic command.  \n",
    "See [documentation](https://www.tensorflow.org/tensorboard/tensorboard_in_notebooks)  \n",
    "Load the extention : ```%load_ext tensorboard```  \n",
    "Start tensorboard : ```%tensorboard --logdir logs```  \n"
   ]
  },
  {
   "cell_type": "raw",
   "metadata": {},
   "source": [
    "%load_ext tensorboard\n",
    "%tensorboard --logdir logs"
   ]
  },
  {
   "cell_type": "markdown",
   "metadata": {},
   "source": [
    "## Option 2 - Shell command (*)\n",
    "Basic way, from a shell  \n",
    "More about it : `# tensorboard --help`"
   ]
  },
  {
   "cell_type": "markdown",
   "metadata": {},
   "source": [
    "---\n",
    "<img width=\"80px\" src=\"../fidle/img/00-Fidle-logo-01.svg\"></img>"
   ]
  }
 ],
 "metadata": {
  "interpreter": {
   "hash": "8e38643e33497db9a306e3f311fa98cb1e65371278ca73ee4ea0c76aa5a4f387"
  },
  "kernelspec": {
   "display_name": "Python 3.9.7 64-bit ('fidle-cpu': conda)",
   "name": "python3"
  },
  "language_info": {
   "codemirror_mode": {
    "name": "ipython",
    "version": 3
   },
   "file_extension": ".py",
   "mimetype": "text/x-python",
   "name": "python",
   "nbconvert_exporter": "python",
   "pygments_lexer": "ipython3",
   "version": "3.9.7"
  }
 },
 "nbformat": 4,
 "nbformat_minor": 4
}
