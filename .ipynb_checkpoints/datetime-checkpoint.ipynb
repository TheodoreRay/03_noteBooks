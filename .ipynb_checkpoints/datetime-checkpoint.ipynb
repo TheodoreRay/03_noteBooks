{
 "cells": [
  {
   "cell_type": "markdown",
   "metadata": {},
   "source": [
    "# <span style=\"color:red\"> datetime</span>"
   ]
  },
  {
   "cell_type": "markdown",
   "metadata": {},
   "source": [
    "<i> Exemples </i> : https://matplotlib.org/gallery/index.html"
   ]
  },
  {
   "cell_type": "markdown",
   "metadata": {},
   "source": [
    "### <span style=\"color:blue\"> 0. Conversion format datetime </span>"
   ]
  },
  {
   "cell_type": "code",
   "execution_count": 2,
   "metadata": {},
   "outputs": [],
   "source": [
    "import pandas as pd"
   ]
  },
  {
   "cell_type": "code",
   "execution_count": 32,
   "metadata": {},
   "outputs": [],
   "source": [
    "dates_string = pd.Series(['2020-01-18 00:10', '2020-03-19 02:30']) #format string\n",
    "dates_datetime = pd.to_datetime(dates_string, format=\"%Y-%m-%d %H:%M\") #respecter le format initial ! (\"-\", \":\")\n"
   ]
  },
  {
   "cell_type": "code",
   "execution_count": 38,
   "metadata": {},
   "outputs": [
    {
     "name": "stdout",
     "output_type": "stream",
     "text": [
      "<class 'str'>\n",
      "<class 'numpy.datetime64'>\n"
     ]
    }
   ],
   "source": [
    "print(type(dates_string.values[0]))\n",
    "print(type(dates_datetime.values[0]))"
   ]
  },
  {
   "cell_type": "markdown",
   "metadata": {},
   "source": [
    "### <span style=\"color:blue\"> 1. Opérations sur les dates </span> <br>\n",
    "> #### <i> comparaisons </i>"
   ]
  },
  {
   "cell_type": "code",
   "execution_count": 39,
   "metadata": {},
   "outputs": [
    {
     "name": "stdout",
     "output_type": "stream",
     "text": [
      "0 days 00:00:00\n",
      "61 days 02:20:00\n"
     ]
    }
   ],
   "source": [
    "# soustraction :  calcul de l'intervalle de temps\n",
    "print(dates_datetime[0]-dates_datetime[0])\n",
    "print(dates_datetime[1]-dates_datetime[0])"
   ]
  },
  {
   "cell_type": "code",
   "execution_count": 40,
   "metadata": {},
   "outputs": [
    {
     "name": "stdout",
     "output_type": "stream",
     "text": [
      "True\n",
      "False\n"
     ]
    }
   ],
   "source": [
    "# tests booléens\n",
    "print(str(dates_datetime[1]-dates_datetime[0]) > '61 days 02:00:00')\n",
    "print(str(dates_datetime[1]-dates_datetime[0]) > '61 days 02:40:00')"
   ]
  },
  {
   "cell_type": "markdown",
   "metadata": {},
   "source": [
    "> #### <i> création d'une liste de dates : dateutil.rrule </i>"
   ]
  },
  {
   "cell_type": "code",
   "execution_count": 30,
   "metadata": {},
   "outputs": [],
   "source": [
    "from dateutil.rrule import rrule, DAILY\n",
    "# dateutil : extension à la bibliothèque datetime, comprenant de nombreuses méthodes de manipulation de datetime très utiles."
   ]
  },
  {
   "cell_type": "code",
   "execution_count": 29,
   "metadata": {},
   "outputs": [
    {
     "name": "stdout",
     "output_type": "stream",
     "text": [
      "[datetime.datetime(2020, 1, 18, 0, 10), datetime.datetime(2020, 1, 28, 0, 10), datetime.datetime(2020, 2, 7, 0, 10), datetime.datetime(2020, 2, 17, 0, 10), datetime.datetime(2020, 2, 27, 0, 10), datetime.datetime(2020, 3, 8, 0, 10), datetime.datetime(2020, 3, 18, 0, 10)]\n"
     ]
    }
   ],
   "source": [
    "dates = list((rrule(DAILY, # itération sur les jours\n",
    "                    interval=10, # tous les 10 jours\n",
    "                    dtstart = dates_datetime[0], # à partir du 18/01/2020\n",
    "                    until = dates_datetime[1] # au 19/03/2020\n",
    "                   )))\n",
    "print(dates)"
   ]
  },
  {
   "cell_type": "markdown",
   "metadata": {},
   "source": [
    "### <span style=\"color:blue\"> 2. Autres lignes de codes utiles </span> <br>"
   ]
  },
  {
   "cell_type": "code",
   "execution_count": 44,
   "metadata": {
    "scrolled": true
   },
   "outputs": [
    {
     "name": "stdout",
     "output_type": "stream",
     "text": [
      "0   2020-01-18 00:10:00\n",
      "1   2020-03-19 02:30:00\n",
      "dtype: datetime64[ns]\n",
      "0   2020-01-18 00:10:00-05:00\n",
      "1   2020-03-19 02:30:00-04:00\n",
      "dtype: datetime64[ns, US/Eastern]\n"
     ]
    }
   ],
   "source": [
    "dates_datetime = dates_datetime.dt.tz_localize(None) # non prise en compte de la timezone\n",
    "print(dates_datetime)\n",
    "dates_datetime = dates_datetime.dt.tz_localize(tz='US/Eastern') # timezone US/Eastern\n",
    "print(dates_datetime)"
   ]
  },
  {
   "cell_type": "markdown",
   "metadata": {},
   "source": [
    "> #### <i> Step plot </i>"
   ]
  },
  {
   "cell_type": "code",
   "execution_count": 34,
   "metadata": {},
   "outputs": [],
   "source": [
    "x = np.arange(14)\n",
    "y = np.sin(x / 2)"
   ]
  },
  {
   "cell_type": "markdown",
   "metadata": {},
   "source": [
    "### <span style=\"color:blue\"> 3. Annotations </span> <br>"
   ]
  },
  {
   "cell_type": "code",
   "execution_count": 93,
   "metadata": {},
   "outputs": [],
   "source": [
    "x = np.arange(0, 10, 0.005)\n",
    "y = np.exp(-x/2.) * np.sin(2*np.pi*x)"
   ]
  }
 ],
 "metadata": {
  "kernelspec": {
   "display_name": "Python 3",
   "language": "python",
   "name": "python3"
  },
  "language_info": {
   "codemirror_mode": {
    "name": "ipython",
    "version": 3
   },
   "file_extension": ".py",
   "mimetype": "text/x-python",
   "name": "python",
   "nbconvert_exporter": "python",
   "pygments_lexer": "ipython3",
   "version": "3.8.5"
  }
 },
 "nbformat": 4,
 "nbformat_minor": 4
}
