{
 "cells": [
  {
   "cell_type": "markdown",
   "metadata": {},
   "source": [
    "# <span style=\"color:red\"> dataframe & dictionnaires </span>"
   ]
  },
  {
   "cell_type": "markdown",
   "metadata": {},
   "source": [
    "<i> documentation </i> : https://pandas.pydata.org/docs/index.html"
   ]
  },
  {
   "cell_type": "code",
   "execution_count": 1,
   "metadata": {},
   "outputs": [],
   "source": [
    "import pandas as pd\n",
    "import numpy as np"
   ]
  },
  {
   "cell_type": "markdown",
   "metadata": {},
   "source": [
    "### <span style=\"color:blue\"> 1. création du dataframe </span>\n",
    "> #### <i> a. définition des index/colonnes/données </i>"
   ]
  },
  {
   "cell_type": "code",
   "execution_count": null,
   "metadata": {},
   "outputs": [],
   "source": [
    "index = ['a','b','c','d']\n",
    "columns = ['rouge', 'bleu', 'noir']\n",
    "!pip install -U pandas"
   ]
  },
  {
   "cell_type": "code",
   "execution_count": 7,
   "metadata": {},
   "outputs": [
    {
     "name": "stdout",
     "output_type": "stream",
     "text": [
      "{'rouge': [1, 0, 0, 0], 'bleu': [0, 1, 0, 0], 'noir': [0, 0, 1, 0]}\n"
     ]
    }
   ],
   "source": [
    "data_raw = np.eye(4,3)\n",
    "data_dic = {'rouge' : [1, 0, 0, 0], 'bleu' : [0, 1, 0, 0], 'noir' : [0, 0, 1, 0]}\n",
    "print(data_dic)"
   ]
  },
  {
   "cell_type": "markdown",
   "metadata": {},
   "source": [
    " > #### <i> b. bonus : dictionnaire par compréhension </i>"
   ]
  },
  {
   "cell_type": "code",
   "execution_count": 26,
   "metadata": {},
   "outputs": [
    {
     "name": "stdout",
     "output_type": "stream",
     "text": [
      "{'rouge': 0, 'bleu': 0, 'noir': 0}\n",
      "{'rouge': 0, 'bleu': 0, 'noir': 0}\n"
     ]
    },
    {
     "data": {
      "text/plain": [
       "{'rouge': 0, 'bleu': 1, 'noir': 2}"
      ]
     },
     "execution_count": 26,
     "metadata": {},
     "output_type": "execute_result"
    }
   ],
   "source": [
    "## formulation avec dict ##\n",
    "dic = dict((col, 0) for col in columns)\n",
    "print(dic)\n",
    "## formulation avec {} ##\n",
    "dic = {col:0 for col in columns}\n",
    "print(dic)\n",
    "## double compréhension ##\n",
    "dic_liste = [['rouge',0], ['bleu',1], ['noir',2]]\n",
    "dic = {col:val for col,val in dic_liste}\n",
    "dic"
   ]
  },
  {
   "cell_type": "markdown",
   "metadata": {},
   "source": [
    "> #### <i> c. création du dataframe en utilisant les labels </i>"
   ]
  },
  {
   "cell_type": "code",
   "execution_count": 10,
   "metadata": {
    "scrolled": true
   },
   "outputs": [
    {
     "data": {
      "text/html": [
       "<div>\n",
       "<style scoped>\n",
       "    .dataframe tbody tr th:only-of-type {\n",
       "        vertical-align: middle;\n",
       "    }\n",
       "\n",
       "    .dataframe tbody tr th {\n",
       "        vertical-align: top;\n",
       "    }\n",
       "\n",
       "    .dataframe thead th {\n",
       "        text-align: right;\n",
       "    }\n",
       "</style>\n",
       "<table border=\"1\" class=\"dataframe\">\n",
       "  <thead>\n",
       "    <tr style=\"text-align: right;\">\n",
       "      <th></th>\n",
       "      <th>rouge</th>\n",
       "      <th>bleu</th>\n",
       "      <th>noir</th>\n",
       "    </tr>\n",
       "  </thead>\n",
       "  <tbody>\n",
       "    <tr>\n",
       "      <th>a</th>\n",
       "      <td>1</td>\n",
       "      <td>0</td>\n",
       "      <td>0</td>\n",
       "    </tr>\n",
       "    <tr>\n",
       "      <th>b</th>\n",
       "      <td>0</td>\n",
       "      <td>1</td>\n",
       "      <td>0</td>\n",
       "    </tr>\n",
       "    <tr>\n",
       "      <th>c</th>\n",
       "      <td>0</td>\n",
       "      <td>0</td>\n",
       "      <td>1</td>\n",
       "    </tr>\n",
       "    <tr>\n",
       "      <th>d</th>\n",
       "      <td>0</td>\n",
       "      <td>0</td>\n",
       "      <td>0</td>\n",
       "    </tr>\n",
       "  </tbody>\n",
       "</table>\n",
       "</div>"
      ],
      "text/plain": [
       "   rouge  bleu  noir\n",
       "a      1     0     0\n",
       "b      0     1     0\n",
       "c      0     0     1\n",
       "d      0     0     0"
      ]
     },
     "execution_count": 10,
     "metadata": {},
     "output_type": "execute_result"
    }
   ],
   "source": [
    "tab = pd.DataFrame(index = index, columns = columns, data = data_raw, dtype = int)\n",
    "tab"
   ]
  },
  {
   "cell_type": "markdown",
   "metadata": {},
   "source": [
    " > #### <i> d. création du dataframe en utilisant un dictionnaire </i>"
   ]
  },
  {
   "cell_type": "code",
   "execution_count": 8,
   "metadata": {},
   "outputs": [
    {
     "data": {
      "text/html": [
       "<div>\n",
       "<style scoped>\n",
       "    .dataframe tbody tr th:only-of-type {\n",
       "        vertical-align: middle;\n",
       "    }\n",
       "\n",
       "    .dataframe tbody tr th {\n",
       "        vertical-align: top;\n",
       "    }\n",
       "\n",
       "    .dataframe thead th {\n",
       "        text-align: right;\n",
       "    }\n",
       "</style>\n",
       "<table border=\"1\" class=\"dataframe\">\n",
       "  <thead>\n",
       "    <tr style=\"text-align: right;\">\n",
       "      <th></th>\n",
       "      <th>rouge</th>\n",
       "      <th>bleu</th>\n",
       "      <th>noir</th>\n",
       "    </tr>\n",
       "  </thead>\n",
       "  <tbody>\n",
       "    <tr>\n",
       "      <th>a</th>\n",
       "      <td>1</td>\n",
       "      <td>0</td>\n",
       "      <td>0</td>\n",
       "    </tr>\n",
       "    <tr>\n",
       "      <th>b</th>\n",
       "      <td>0</td>\n",
       "      <td>1</td>\n",
       "      <td>0</td>\n",
       "    </tr>\n",
       "    <tr>\n",
       "      <th>c</th>\n",
       "      <td>0</td>\n",
       "      <td>0</td>\n",
       "      <td>1</td>\n",
       "    </tr>\n",
       "    <tr>\n",
       "      <th>d</th>\n",
       "      <td>0</td>\n",
       "      <td>0</td>\n",
       "      <td>0</td>\n",
       "    </tr>\n",
       "  </tbody>\n",
       "</table>\n",
       "</div>"
      ],
      "text/plain": [
       "   rouge  bleu  noir\n",
       "a      1     0     0\n",
       "b      0     1     0\n",
       "c      0     0     1\n",
       "d      0     0     0"
      ]
     },
     "execution_count": 8,
     "metadata": {},
     "output_type": "execute_result"
    }
   ],
   "source": [
    "tab_dic = pd.DataFrame(index = index, data = data_dic, dtype = int)\n",
    "tab_dic"
   ]
  },
  {
   "cell_type": "markdown",
   "metadata": {},
   "source": [
    "### <span style=\"color:blue\"> 2. Opérations sur les colonnes (exemples) </span>\n",
    " > #### <i> a. opérations basiques </i>"
   ]
  },
  {
   "cell_type": "code",
   "execution_count": 11,
   "metadata": {
    "scrolled": true
   },
   "outputs": [
    {
     "name": "stdout",
     "output_type": "stream",
     "text": [
      "   rouge   bleu  noir  vert\n",
      "a      1   True     2     7\n",
      "b      0  False     0     6\n",
      "c      0  False     0     5\n",
      "d      0  False     0     4\n"
     ]
    },
    {
     "data": {
      "text/html": [
       "<div>\n",
       "<style scoped>\n",
       "    .dataframe tbody tr th:only-of-type {\n",
       "        vertical-align: middle;\n",
       "    }\n",
       "\n",
       "    .dataframe tbody tr th {\n",
       "        vertical-align: top;\n",
       "    }\n",
       "\n",
       "    .dataframe thead th {\n",
       "        text-align: right;\n",
       "    }\n",
       "</style>\n",
       "<table border=\"1\" class=\"dataframe\">\n",
       "  <thead>\n",
       "    <tr style=\"text-align: right;\">\n",
       "      <th></th>\n",
       "      <th>rouge</th>\n",
       "      <th>bleu</th>\n",
       "      <th>noir</th>\n",
       "      <th>marron</th>\n",
       "    </tr>\n",
       "  </thead>\n",
       "  <tbody>\n",
       "    <tr>\n",
       "      <th>a</th>\n",
       "      <td>1</td>\n",
       "      <td>True</td>\n",
       "      <td>2</td>\n",
       "      <td>7</td>\n",
       "    </tr>\n",
       "    <tr>\n",
       "      <th>b</th>\n",
       "      <td>0</td>\n",
       "      <td>False</td>\n",
       "      <td>0</td>\n",
       "      <td>7</td>\n",
       "    </tr>\n",
       "    <tr>\n",
       "      <th>c</th>\n",
       "      <td>0</td>\n",
       "      <td>False</td>\n",
       "      <td>0</td>\n",
       "      <td>7</td>\n",
       "    </tr>\n",
       "    <tr>\n",
       "      <th>d</th>\n",
       "      <td>0</td>\n",
       "      <td>False</td>\n",
       "      <td>0</td>\n",
       "      <td>7</td>\n",
       "    </tr>\n",
       "  </tbody>\n",
       "</table>\n",
       "</div>"
      ],
      "text/plain": [
       "   rouge   bleu  noir  marron\n",
       "a      1   True     2       7\n",
       "b      0  False     0       7\n",
       "c      0  False     0       7\n",
       "d      0  False     0       7"
      ]
     },
     "execution_count": 11,
     "metadata": {},
     "output_type": "execute_result"
    }
   ],
   "source": [
    "# colonne booléenne\n",
    "tab[\"bleu\"] = tab[\"rouge\"] > 0\n",
    "# opérations\n",
    "tab[\"noir\"] = 2*tab[\"bleu\"] #True = 1\n",
    "# ajouter nouvelle colonne\n",
    "# rq : ne marche qu'avec .loc (pas .iloc)\n",
    "tab[\"vert\"] = [7, 6, 5, 4]\n",
    "print(tab)\n",
    "\n",
    "tab.pop(\"vert\")\n",
    "tab[\"marron\"] = 7\n",
    "tab"
   ]
  },
  {
   "cell_type": "markdown",
   "metadata": {},
   "source": [
    " > #### <i> b. modifier valeurs sous conditions </i>"
   ]
  },
  {
   "cell_type": "code",
   "execution_count": 19,
   "metadata": {},
   "outputs": [
    {
     "data": {
      "text/html": [
       "<div>\n",
       "<style scoped>\n",
       "    .dataframe tbody tr th:only-of-type {\n",
       "        vertical-align: middle;\n",
       "    }\n",
       "\n",
       "    .dataframe tbody tr th {\n",
       "        vertical-align: top;\n",
       "    }\n",
       "\n",
       "    .dataframe thead th {\n",
       "        text-align: right;\n",
       "    }\n",
       "</style>\n",
       "<table border=\"1\" class=\"dataframe\">\n",
       "  <thead>\n",
       "    <tr style=\"text-align: right;\">\n",
       "      <th></th>\n",
       "      <th>rouge</th>\n",
       "      <th>bleu</th>\n",
       "      <th>noir</th>\n",
       "      <th>marron</th>\n",
       "    </tr>\n",
       "  </thead>\n",
       "  <tbody>\n",
       "    <tr>\n",
       "      <th>a</th>\n",
       "      <td>1</td>\n",
       "      <td>True</td>\n",
       "      <td>2</td>\n",
       "      <td>condition 2</td>\n",
       "    </tr>\n",
       "    <tr>\n",
       "      <th>b</th>\n",
       "      <td>0</td>\n",
       "      <td>False</td>\n",
       "      <td>0</td>\n",
       "      <td>condition 1</td>\n",
       "    </tr>\n",
       "    <tr>\n",
       "      <th>c</th>\n",
       "      <td>0</td>\n",
       "      <td>False</td>\n",
       "      <td>0</td>\n",
       "      <td>condition 2</td>\n",
       "    </tr>\n",
       "    <tr>\n",
       "      <th>d</th>\n",
       "      <td>0</td>\n",
       "      <td>False</td>\n",
       "      <td>0</td>\n",
       "      <td>condition 1</td>\n",
       "    </tr>\n",
       "  </tbody>\n",
       "</table>\n",
       "</div>"
      ],
      "text/plain": [
       "   rouge   bleu  noir       marron\n",
       "a      1   True     2  condition 2\n",
       "b      0  False     0  condition 1\n",
       "c      0  False     0  condition 2\n",
       "d      0  False     0  condition 1"
      ]
     },
     "execution_count": 19,
     "metadata": {},
     "output_type": "execute_result"
    }
   ],
   "source": [
    "#df.(i)loc[(condition 1) |/& (condition 1)... OU index concernés, \n",
    "#colonne(s)] = nouvelle valeur\n",
    "tab.loc[(tab[\"noir\"]==0) & (tab[\"bleu\"]==False) , \"marron\"] = 'condition 1'\n",
    "tab\n",
    "tab.loc[[\"a\", \"c\"], \"marron\"] = 'condition 2'\n",
    "tab"
   ]
  },
  {
   "cell_type": "markdown",
   "metadata": {},
   "source": [
    "### <span style=\"color:blue\"> Méthodes utiles en vrac </span>\n",
    "> #### <i> a. utilisation de <i> date_range </i>"
   ]
  },
  {
   "cell_type": "code",
   "execution_count": 81,
   "metadata": {},
   "outputs": [
    {
     "data": {
      "text/plain": [
       "2021-01-14    0.872299\n",
       "2021-01-13    1.632307\n",
       "2021-01-12    0.172740\n",
       "2021-01-11    0.054512\n",
       "2021-01-10    0.299326\n",
       "2021-01-09   -0.291462\n",
       "2021-01-08    0.726049\n",
       "2021-01-07    0.476768\n",
       "Freq: -1D, Name: S1, dtype: float64"
      ]
     },
     "execution_count": 81,
     "metadata": {},
     "output_type": "execute_result"
    }
   ],
   "source": [
    "dates = pd.date_range('1/1/2021', periods = 40)\n",
    "tab_daté = pd.DataFrame(index = dates, columns = ['S1', 'S2', 'S3'], data = np.random.randn(40,3))\n",
    "\n",
    "S1 = pd.Series(tab_daté['S1'])\n",
    "S1.loc['2021-01-07':'2021-01-14'][::-1]"
   ]
  },
  {
   "cell_type": "markdown",
   "metadata": {},
   "source": [
    "> #### <i> b. autres"
   ]
  },
  {
   "cell_type": "code",
   "execution_count": 32,
   "metadata": {},
   "outputs": [
    {
     "name": "stdout",
     "output_type": "stream",
     "text": [
      "valeurs uniques colonne 'rouge' : [1 0]\n",
      "          rouge      noir\n",
      "count  3.000000  3.000000\n",
      "mean   0.333333  0.666667\n",
      "std    0.577350  1.154701\n",
      "min    0.000000  0.000000\n",
      "25%    0.000000  0.000000\n",
      "50%    0.000000  0.000000\n",
      "75%    0.500000  1.000000\n",
      "max    1.000000  2.000000\n",
      "None\n"
     ]
    }
   ],
   "source": [
    "print(f\"valeurs uniques colonne 'rouge' : {tab['rouge'].unique()}\") # renvoi les valeurs uniques d'une série\n",
    "print(tab.describe()) # description statistique des colonnes\n",
    "print(tab.drop_duplicates(keep='first', inplace=True)) # supprime les lignes doublons"
   ]
  }
 ],
 "metadata": {
  "kernelspec": {
   "display_name": "Python 3",
   "language": "python",
   "name": "python3"
  },
  "language_info": {
   "codemirror_mode": {
    "name": "ipython",
    "version": 3
   },
   "file_extension": ".py",
   "mimetype": "text/x-python",
   "name": "python",
   "nbconvert_exporter": "python",
   "pygments_lexer": "ipython3",
   "version": "3.8.5"
  }
 },
 "nbformat": 4,
 "nbformat_minor": 4
}
